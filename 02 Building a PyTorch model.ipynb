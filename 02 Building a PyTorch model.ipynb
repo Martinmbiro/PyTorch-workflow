{
  "nbformat": 4,
  "nbformat_minor": 0,
  "metadata": {
    "colab": {
      "provenance": [],
      "toc_visible": true,
      "authorship_tag": "ABX9TyPTH3RBRnRPqOvrb1KtM/uU",
      "include_colab_link": true
    },
    "kernelspec": {
      "name": "python3",
      "display_name": "Python 3"
    },
    "language_info": {
      "name": "python"
    }
  },
  "cells": [
    {
      "cell_type": "markdown",
      "metadata": {
        "id": "view-in-github",
        "colab_type": "text"
      },
      "source": [
        "<a href=\"https://colab.research.google.com/github/Martinmbiro/PyTorch-workflow/blob/main/02%20Building%20a%20PyTorch%20model.ipynb\" target=\"_parent\"><img src=\"https://colab.research.google.com/assets/colab-badge.svg\" alt=\"Open In Colab\"/></a>"
      ]
    },
    {
      "cell_type": "markdown",
      "source": [
        "# **Building a PyTorch model**\n",
        "> ✋ **Info**\n",
        "\n",
        "> Here, we'll build a standard [`Linear regression`](https://en.wikipedia.org/wiki/Linear_regression) model using PyTorch\n",
        "+ Familiarity with Python _classes_ is needed to build and train neural networks.\n",
        "+ Here's a [`resource`](https://realpython.com/python3-object-oriented-programming/) for reference on Python classes"
      ],
      "metadata": {
        "id": "2-ZS5-nsA7bR"
      }
    },
    {
      "cell_type": "code",
      "source": [
        "# import pytorch\n",
        "import torch, torch.nn as nn\n",
        "torch.__version__"
      ],
      "metadata": {
        "colab": {
          "base_uri": "https://localhost:8080/",
          "height": 35
        },
        "id": "5bwW7u7SEdpy",
        "outputId": "b1f11977-bb11-4f97-c562-65448e78dd9d"
      },
      "execution_count": null,
      "outputs": [
        {
          "output_type": "execute_result",
          "data": {
            "text/plain": [
              "'2.5.1+cu121'"
            ],
            "application/vnd.google.colaboratory.intrinsic+json": {
              "type": "string"
            }
          },
          "metadata": {},
          "execution_count": 1
        }
      ]
    },
    {
      "cell_type": "markdown",
      "source": [
        "### Build model"
      ],
      "metadata": {
        "id": "WqV98CdAAi5_"
      }
    },
    {
      "cell_type": "markdown",
      "source": [
        "> 📝 **Note**  \n",
        "+ For this example implementation, [`torch.nn.Parameter`](https://pytorch.org/docs/stable/generated/torch.nn.parameter.Parameter.html#torch.nn.parameter.Parameter) is a kind of Tensor that is to be considered a _module_ parameter\n",
        "+ Most PyTorch models inherit from the [`torch.nn.Module`](https://pytorch.org/docs/stable/generated/torch.nn.Module.html#torch.nn.Module) class\n",
        "+ Building and training neural networks also requires the use of [`torch.optim`](https://pytorch.org/docs/stable/optim.html), [`torch.utils.data.Dataset`](https://pytorch.org/docs/stable/data.html#torch.utils.data.Dataset) & [`torch.utils.data.Dataloader`](https://pytorch.org/docs/stable/data.html)"
      ],
      "metadata": {
        "id": "zmxE88hbCBql"
      }
    },
    {
      "cell_type": "code",
      "execution_count": null,
      "metadata": {
        "id": "G1wJA8NECLuG"
      },
      "outputs": [],
      "source": [
        "# LinearRegressionModel class that sublasses torch.nn.Module\n",
        "class LinearRegressionModel(nn.Module):\n",
        "  # we define the model's layers/parameters of our model in the __init__ method\n",
        "  def __init__(self):\n",
        "    # call to the parent class must be made before assignment on the child\n",
        "    super().__init__()\n",
        "    # scalars to store weight and bias\n",
        "    self.weight = nn.Parameter(torch.randn(1))\n",
        "    self.bias = nn.Parameter(torch.randn(1))\n",
        "\n",
        "  # classes that subclass nn.Module SHOULD override the forward method\n",
        "  # the forward method specifies the computation in the nn.Module class (model)\n",
        "  def forward(self, x:torch.Tensor) -> torch.Tensor:\n",
        "    # m * x + c\n",
        "    return self.weight * x + self.bias"
      ]
    },
    {
      "cell_type": "markdown",
      "source": [
        "### Check model contents\n",
        "> 💎 **Pro Tip**  \n",
        "\n",
        "> What if we wanted to view the constituents of our model?"
      ],
      "metadata": {
        "id": "9Eh3BMdvAmZk"
      }
    },
    {
      "cell_type": "code",
      "source": [
        "# lets first instantiate our model\n",
        "# for reproducibility\n",
        "torch.manual_seed(42)\n",
        "\n",
        "model_0 = LinearRegressionModel()"
      ],
      "metadata": {
        "id": "Im5s6NyGCirD"
      },
      "execution_count": null,
      "outputs": []
    },
    {
      "cell_type": "markdown",
      "source": [
        "#### [`Module.parameters()`](https://pytorch.org/docs/stable/generated/torch.nn.Module.html#torch.nn.Module.parameters)\n",
        "> Return an _iterator_ over module parameters.  \n",
        "+ This is typically passed to an optimizer."
      ],
      "metadata": {
        "id": "NhUqFRjNBBGw"
      }
    },
    {
      "cell_type": "code",
      "source": [
        "# check type returned\n",
        "type(model_0.parameters())"
      ],
      "metadata": {
        "colab": {
          "base_uri": "https://localhost:8080/"
        },
        "id": "DrEDUKtfBR3x",
        "outputId": "bfa16d69-4cf2-4369-eeb4-edac1d81830e"
      },
      "execution_count": null,
      "outputs": [
        {
          "output_type": "execute_result",
          "data": {
            "text/plain": [
              "generator"
            ]
          },
          "metadata": {},
          "execution_count": 4
        }
      ]
    },
    {
      "cell_type": "code",
      "source": [
        "# loop through generator\n",
        "for i in model_0.parameters():\n",
        "  print(i)"
      ],
      "metadata": {
        "colab": {
          "base_uri": "https://localhost:8080/"
        },
        "id": "F0Th6z9bAYMu",
        "outputId": "cd3fcfea-ac17-4b8a-e0c8-bdd2fe591655"
      },
      "execution_count": null,
      "outputs": [
        {
          "output_type": "stream",
          "name": "stdout",
          "text": [
            "Parameter containing:\n",
            "tensor([0.3367], requires_grad=True)\n",
            "Parameter containing:\n",
            "tensor([0.1288], requires_grad=True)\n"
          ]
        }
      ]
    },
    {
      "cell_type": "markdown",
      "source": [
        "#### [`Module.state_dict()`](https://pytorch.org/docs/stable/generated/torch.nn.Module.html#torch.nn.Module.state_dict)\n",
        "> Return a `dict` containing references to the whole state of the `nn.Module`"
      ],
      "metadata": {
        "id": "zPfYn5qDBtgj"
      }
    },
    {
      "cell_type": "code",
      "source": [
        "# check type\n",
        "type(model_0.state_dict())"
      ],
      "metadata": {
        "colab": {
          "base_uri": "https://localhost:8080/"
        },
        "id": "jU-66fRaCF_b",
        "outputId": "e2dd1378-f479-4a5b-8f8a-7e722fb1bd14"
      },
      "execution_count": null,
      "outputs": [
        {
          "output_type": "execute_result",
          "data": {
            "text/plain": [
              "collections.OrderedDict"
            ]
          },
          "metadata": {},
          "execution_count": 6
        }
      ]
    },
    {
      "cell_type": "code",
      "source": [
        "# loop through dictionary\n",
        "for key, value in model_0.state_dict().items():\n",
        "  print(f'{key}: {value}')"
      ],
      "metadata": {
        "colab": {
          "base_uri": "https://localhost:8080/"
        },
        "id": "Vmq2BZjdCNs-",
        "outputId": "5a72eb5a-ea1c-4bf9-f2de-d3c9bc0e3bf7"
      },
      "execution_count": null,
      "outputs": [
        {
          "output_type": "stream",
          "name": "stdout",
          "text": [
            "weight: tensor([0.3367])\n",
            "bias: tensor([0.1288])\n"
          ]
        }
      ]
    },
    {
      "cell_type": "markdown",
      "source": [
        "#### [`torchinfo`](https://github.com/TylerYep/torchinfo)\n",
        "> Provides complementary visualization of the model"
      ],
      "metadata": {
        "id": "yI-vDFlWDGNl"
      }
    },
    {
      "cell_type": "code",
      "source": [
        "# install the library\n",
        "!pip install torchinfo\n",
        "# import summary\n",
        "from torchinfo import summary"
      ],
      "metadata": {
        "colab": {
          "base_uri": "https://localhost:8080/"
        },
        "id": "rUhMZ99EDNVE",
        "outputId": "9fd2dc60-9f5c-459f-bedd-51b65c4f6a33"
      },
      "execution_count": null,
      "outputs": [
        {
          "output_type": "stream",
          "name": "stdout",
          "text": [
            "Requirement already satisfied: torchinfo in /usr/local/lib/python3.10/dist-packages (1.8.0)\n"
          ]
        }
      ]
    },
    {
      "cell_type": "code",
      "source": [
        "# we'll pass the shape of our training data (40, 1)\n",
        "summary(model=model_0, input_size=(40, 1))"
      ],
      "metadata": {
        "colab": {
          "base_uri": "https://localhost:8080/"
        },
        "id": "TO8rp1hlFniP",
        "outputId": "ab4f027c-b8bd-4748-e804-94dc49f7a1e9"
      },
      "execution_count": null,
      "outputs": [
        {
          "output_type": "execute_result",
          "data": {
            "text/plain": [
              "==========================================================================================\n",
              "Layer (type:depth-idx)                   Output Shape              Param #\n",
              "==========================================================================================\n",
              "LinearRegressionModel                    [40, 1]                   2\n",
              "==========================================================================================\n",
              "Total params: 2\n",
              "Trainable params: 2\n",
              "Non-trainable params: 0\n",
              "Total mult-adds (M): 0.00\n",
              "==========================================================================================\n",
              "Input size (MB): 0.00\n",
              "Forward/backward pass size (MB): 0.00\n",
              "Params size (MB): 0.00\n",
              "Estimated Total Size (MB): 0.00\n",
              "=========================================================================================="
            ]
          },
          "metadata": {},
          "execution_count": 9
        }
      ]
    },
    {
      "cell_type": "markdown",
      "source": [
        "### Inferencing\n",
        "> To make inference on a model, using [`torch.inference_mode()`](https://pytorch.org/docs/stable/generated/torch.autograd.grad_mode.inference_mode.html#inference-mode) context manager is the recommended way\n",
        "\n"
      ],
      "metadata": {
        "id": "Rg2nXtcnHkI9"
      }
    },
    {
      "cell_type": "markdown",
      "source": [
        "> 📝 **Note**  \n",
        "+ Here, we'll make inference on the model with random values, just for demonstration\n",
        "+ Keep in mind that the model is not yet trained"
      ],
      "metadata": {
        "id": "NQvZvNGXIL2z"
      }
    },
    {
      "cell_type": "code",
      "source": [
        "# generate some random values\n",
        "X_test = torch.rand(5, 1)\n",
        "X_test"
      ],
      "metadata": {
        "colab": {
          "base_uri": "https://localhost:8080/"
        },
        "id": "N2N1_RMkIYbG",
        "outputId": "a398b068-d2aa-46b5-da73-0d7bf2fa7b85"
      },
      "execution_count": null,
      "outputs": [
        {
          "output_type": "execute_result",
          "data": {
            "text/plain": [
              "tensor([[0.7890],\n",
              "        [0.2814],\n",
              "        [0.7886],\n",
              "        [0.5895],\n",
              "        [0.7539]])"
            ]
          },
          "metadata": {},
          "execution_count": 55
        }
      ]
    },
    {
      "cell_type": "code",
      "source": [
        "# make inference\n",
        "with torch.inference_mode():\n",
        "  y_preds = model_0(X_test)\n",
        "\n",
        "# print predictions\n",
        "print(y_preds)"
      ],
      "metadata": {
        "colab": {
          "base_uri": "https://localhost:8080/"
        },
        "id": "urwOWlyiIq6H",
        "outputId": "f49c5bd6-d78d-43d2-d888-f9511db1bb58"
      },
      "execution_count": null,
      "outputs": [
        {
          "output_type": "stream",
          "name": "stdout",
          "text": [
            "tensor([[0.3945],\n",
            "        [0.2236],\n",
            "        [0.3943],\n",
            "        [0.3273],\n",
            "        [0.3826]])\n"
          ]
        }
      ]
    },
    {
      "cell_type": "markdown",
      "source": [
        "> ▶️ **Up Next**  \n",
        "\n",
        "> Training a PyTorch model"
      ],
      "metadata": {
        "id": "9J7yZ1KOD5bD"
      }
    }
  ]
}