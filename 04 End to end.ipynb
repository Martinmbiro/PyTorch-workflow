{
  "nbformat": 4,
  "nbformat_minor": 0,
  "metadata": {
    "colab": {
      "provenance": [],
      "toc_visible": true,
      "gpuType": "T4",
      "authorship_tag": "ABX9TyO1Jm4TAIivq2mzrFW8pR4A",
      "include_colab_link": true
    },
    "kernelspec": {
      "name": "python3",
      "display_name": "Python 3"
    },
    "language_info": {
      "name": "python"
    },
    "accelerator": "GPU"
  },
  "cells": [
    {
      "cell_type": "markdown",
      "metadata": {
        "id": "view-in-github",
        "colab_type": "text"
      },
      "source": [
        "<a href=\"https://colab.research.google.com/github/Martinmbiro/PyTorch-workflow/blob/main/04%20End%20to%20end.ipynb\" target=\"_parent\"><img src=\"https://colab.research.google.com/assets/colab-badge.svg\" alt=\"Open In Colab\"/></a>"
      ]
    },
    {
      "cell_type": "markdown",
      "source": [
        "# **Culmination**\n",
        "> For the sake of practice, I'll train an Artificial Neural Network on a toy dataset (to perform regression), while implementing a few new things.\n",
        "\n",
        "> Let's get coding then! 💻"
      ],
      "metadata": {
        "id": "a7NpBEk70OWr"
      }
    },
    {
      "cell_type": "code",
      "execution_count": null,
      "metadata": {
        "colab": {
          "base_uri": "https://localhost:8080/",
          "height": 35
        },
        "id": "sJj9A9xZz_RO",
        "outputId": "66e2e4c2-a8fc-41c9-d602-0f859467a1d4"
      },
      "outputs": [
        {
          "output_type": "execute_result",
          "data": {
            "text/plain": [
              "'2.5.1+cu121'"
            ],
            "application/vnd.google.colaboratory.intrinsic+json": {
              "type": "string"
            }
          },
          "metadata": {},
          "execution_count": 1
        }
      ],
      "source": [
        "# import necessary libraries\n",
        "import torch, numpy as np, matplotlib.pyplot as plt, torch.nn as nn\n",
        "# specify style sheet to use\n",
        "plt.style.use('fast')\n",
        "# print pytorch version\n",
        "torch.__version__"
      ]
    },
    {
      "cell_type": "code",
      "source": [
        "# setting up device\n",
        "if torch.cuda.is_available(): # NVIDIA GPU\n",
        "  device = 'cuda'\n",
        "elif torch.backends.mps.is_available(): # Apple Silicon GPU\n",
        "  device = 'mps'\n",
        "else:\n",
        "  device = 'cpu' # defauls to cpu"
      ],
      "metadata": {
        "id": "T9Gua4VI59yK"
      },
      "execution_count": null,
      "outputs": []
    },
    {
      "cell_type": "code",
      "source": [
        "# check device\n",
        "device"
      ],
      "metadata": {
        "colab": {
          "base_uri": "https://localhost:8080/",
          "height": 35
        },
        "id": "X5tM0DeSxPE9",
        "outputId": "35b3bab0-42a3-4726-dd08-8980f0134e1a"
      },
      "execution_count": null,
      "outputs": [
        {
          "output_type": "execute_result",
          "data": {
            "text/plain": [
              "'cuda'"
            ],
            "application/vnd.google.colaboratory.intrinsic+json": {
              "type": "string"
            }
          },
          "metadata": {},
          "execution_count": 3
        }
      ]
    },
    {
      "cell_type": "code",
      "source": [
        "# check NVDIA GPU type\n",
        "!nvidia-smi"
      ],
      "metadata": {
        "colab": {
          "base_uri": "https://localhost:8080/"
        },
        "id": "qVnbzRP4xJer",
        "outputId": "ada903b5-5291-4044-c631-d8a438950c63"
      },
      "execution_count": null,
      "outputs": [
        {
          "output_type": "stream",
          "name": "stdout",
          "text": [
            "Mon Dec 30 19:21:30 2024       \n",
            "+---------------------------------------------------------------------------------------+\n",
            "| NVIDIA-SMI 535.104.05             Driver Version: 535.104.05   CUDA Version: 12.2     |\n",
            "|-----------------------------------------+----------------------+----------------------+\n",
            "| GPU  Name                 Persistence-M | Bus-Id        Disp.A | Volatile Uncorr. ECC |\n",
            "| Fan  Temp   Perf          Pwr:Usage/Cap |         Memory-Usage | GPU-Util  Compute M. |\n",
            "|                                         |                      |               MIG M. |\n",
            "|=========================================+======================+======================|\n",
            "|   0  Tesla T4                       Off | 00000000:00:04.0 Off |                    0 |\n",
            "| N/A   43C    P8              11W /  70W |      3MiB / 15360MiB |      0%      Default |\n",
            "|                                         |                      |                  N/A |\n",
            "+-----------------------------------------+----------------------+----------------------+\n",
            "                                                                                         \n",
            "+---------------------------------------------------------------------------------------+\n",
            "| Processes:                                                                            |\n",
            "|  GPU   GI   CI        PID   Type   Process name                            GPU Memory |\n",
            "|        ID   ID                                                             Usage      |\n",
            "|=======================================================================================|\n",
            "|  No running processes found                                                           |\n",
            "+---------------------------------------------------------------------------------------+\n"
          ]
        }
      ]
    },
    {
      "cell_type": "markdown",
      "source": [
        "### Create toy dataset\n",
        "> Using the [`NumPy's`](https://numpy.org/doc/stable/index.html) [`numpy.arange()`](https://numpy.org/doc/stable/reference/generated/numpy.arange.html#numpy-arange) method, we'll create a toy dataset with  \n",
        "+ `60` features of shape `(60, 2)`\n",
        "+ `60` targets of shape `(60, 1)`"
      ],
      "metadata": {
        "id": "o4z_QrzQ33yr"
      }
    },
    {
      "cell_type": "code",
      "source": [
        "# features (X)\n",
        "X = np.arange(start=1, stop=121, step=1).reshape(-1, 2)\n",
        "# target (y)\n",
        "y = np.arange(start=3, stop=240, step=4).reshape(60, -1)\n",
        "\n",
        "# view shape\n",
        "X.shape, y.shape"
      ],
      "metadata": {
        "colab": {
          "base_uri": "https://localhost:8080/"
        },
        "id": "qDxycOAh0aS0",
        "outputId": "4df03e33-d06e-4023-d9e1-a17b739f2c03"
      },
      "execution_count": null,
      "outputs": [
        {
          "output_type": "execute_result",
          "data": {
            "text/plain": [
              "((60, 2), (60, 1))"
            ]
          },
          "metadata": {},
          "execution_count": 5
        }
      ]
    },
    {
      "cell_type": "code",
      "source": [
        "# a peek into the data\n",
        "X[:4], y[:4].squeeze()"
      ],
      "metadata": {
        "colab": {
          "base_uri": "https://localhost:8080/"
        },
        "id": "m5DWW7291Xd5",
        "outputId": "86fb15b7-df97-4fc4-be70-d04280e25718"
      },
      "execution_count": null,
      "outputs": [
        {
          "output_type": "execute_result",
          "data": {
            "text/plain": [
              "(array([[1, 2],\n",
              "        [3, 4],\n",
              "        [5, 6],\n",
              "        [7, 8]]),\n",
              " array([ 3,  7, 11, 15]))"
            ]
          },
          "metadata": {},
          "execution_count": 6
        }
      ]
    },
    {
      "cell_type": "markdown",
      "source": [
        "#### Turning data into [`torch.Tensor`](https://pytorch.org/docs/stable/tensors.html#torch-tensor)\n",
        "> To turn `ndarray` to `torch.Tensor`, we call the [`torch.from_numpy()`](https://pytorch.org/docs/stable/generated/torch.from_numpy.html#torch.from_numpy) method"
      ],
      "metadata": {
        "id": "tsxiQtIh7bDn"
      }
    },
    {
      "cell_type": "code",
      "source": [
        "# recall, data is still ndarrays\n",
        "type(X)"
      ],
      "metadata": {
        "colab": {
          "base_uri": "https://localhost:8080/"
        },
        "id": "nOq0_nK5vdEs",
        "outputId": "b99c1c6f-da80-4c52-c76a-0dfa21993b30"
      },
      "execution_count": null,
      "outputs": [
        {
          "output_type": "execute_result",
          "data": {
            "text/plain": [
              "numpy.ndarray"
            ]
          },
          "metadata": {},
          "execution_count": 7
        }
      ]
    },
    {
      "cell_type": "code",
      "source": [
        "# turn data into pytorch tensors\n",
        "X = torch.from_numpy(X).type(torch.float32)\n",
        "y = torch.from_numpy(y).type(torch.float32)"
      ],
      "metadata": {
        "id": "ryvSNp97v2EU"
      },
      "execution_count": null,
      "outputs": []
    },
    {
      "cell_type": "code",
      "source": [
        "# check to confirm type\n",
        "type(X)"
      ],
      "metadata": {
        "colab": {
          "base_uri": "https://localhost:8080/"
        },
        "id": "y0Je6nIxyV3E",
        "outputId": "a4661b5f-9b57-4967-c44f-4fd75ec6745e"
      },
      "execution_count": null,
      "outputs": [
        {
          "output_type": "execute_result",
          "data": {
            "text/plain": [
              "torch.Tensor"
            ]
          },
          "metadata": {},
          "execution_count": 9
        }
      ]
    },
    {
      "cell_type": "markdown",
      "source": [
        "#### Splitting data\n",
        "> Using [`sklearn's`]() [`train_test_split`](https://scikit-learn.org/stable/modules/generated/sklearn.model_selection.train_test_split.html#train-test-split) method, we'll split the data in _training-test_ ratio of `80 : 20`"
      ],
      "metadata": {
        "id": "P2ANuIJH6hER"
      }
    },
    {
      "cell_type": "code",
      "source": [
        "# split data into training and test sets\n",
        "from sklearn.model_selection import train_test_split\n",
        "\n",
        "X_train, X_test, y_train, y_test = train_test_split(X, y,\n",
        "                                        test_size=0.2, random_state=42)\n",
        "\n",
        "# confirm shapes\n",
        "X_train.shape, y_train.shape, X_test.shape, y_test.shape"
      ],
      "metadata": {
        "colab": {
          "base_uri": "https://localhost:8080/"
        },
        "id": "PpAe-i8I6Z6a",
        "outputId": "07939fb0-de89-4da7-e379-45e3f779d3c9"
      },
      "execution_count": null,
      "outputs": [
        {
          "output_type": "execute_result",
          "data": {
            "text/plain": [
              "(torch.Size([48, 2]),\n",
              " torch.Size([48, 1]),\n",
              " torch.Size([12, 2]),\n",
              " torch.Size([12, 1]))"
            ]
          },
          "metadata": {},
          "execution_count": 10
        }
      ]
    },
    {
      "cell_type": "code",
      "source": [
        "# function to plot train and test loss curves\n",
        "def plot_losses(ep_list:list, train_loss:list, \\\n",
        "                       test_loss:list, best_epoch:None):\n",
        "  f, ax = plt.subplots(figsize=(5, 3), layout='constrained')\n",
        "\n",
        "  # train loss\n",
        "  ax.plot(ep_list, train_loss, label='Training loss',\n",
        "          linewidth=1.7, color='#00693e')\n",
        "\n",
        "  # test loss\n",
        "  ax.plot(ep_list, test_loss, label='Test loss',\n",
        "          linewidth=1.7, color='#c51e3a')\n",
        "  # vertical line (for early stopping)\n",
        "  if best_epoch is not None:\n",
        "    ax.axvline(best_epoch, linestyle='--', color='#000000', linewidth=1.0,\n",
        "             label=f'Best ep ({best_epoch})')\n",
        "\n",
        "  # axis, title\n",
        "  ax.set_title('Training loss vs Test loss across Epochs',\n",
        "              weight='black')\n",
        "  ax.set_ylabel('Loss (Mean Squared Error)')\n",
        "  ax.set_xlabel('Epoch')\n",
        "  ax.tick_params(axis='both', labelsize=9)\n",
        "  plt.grid(color='#dbd7d2')\n",
        "\n",
        "  # legend\n",
        "  f.legend(fontsize=9, loc='upper right',\n",
        "          bbox_to_anchor=(1.28, 0.93),\n",
        "          fancybox=False)\n",
        "\n",
        "  plt.show()"
      ],
      "metadata": {
        "id": "GzfrIn3_5-su"
      },
      "execution_count": null,
      "outputs": []
    },
    {
      "cell_type": "markdown",
      "source": [
        "### Specifying `Dataset` and `Dataloader`\n",
        "> ✋ **Info**\n",
        "+ [`torch.utils.data.TensorDataset`](https://pytorch.org/docs/stable/data.html#torch.utils.data.TensorDataset) is a utility from [`torch.utils.data`](https://pytorch.org/docs/stable/data.html#module-torch.utils.data) module that allows for creation of datasets from multiple tensors\n",
        "+ [`torch.utils.data.DataLoader`](https://pytorch.org/docs/stable/data.html#torch.utils.data.DataLoader) combines a dataset and a sampler, and provides an iterable over the given dataset\n",
        "+ The `batch_size` specified in the `DataLoader` refers to the number of data points considered to calculate the loss value or update weights"
      ],
      "metadata": {
        "id": "0swd-gOU3zVu"
      }
    },
    {
      "cell_type": "code",
      "source": [
        "from torch.utils.data import TensorDataset, DataLoader\n",
        "BATCH_SIZE = 8\n",
        "\n",
        "# train dataset\n",
        "train_set = TensorDataset(X_train.to(device), y_train.to(device))\n",
        "# test dataset\n",
        "test_set = TensorDataset(X_test.to(device), y_test.to(device))\n",
        "\n",
        "# train loader\n",
        "train_ld = DataLoader(dataset=train_set, batch_size=BATCH_SIZE, shuffle=True)\n",
        "# test loader\n",
        "test_ld = DataLoader(dataset=test_set, batch_size=BATCH_SIZE, shuffle=False)"
      ],
      "metadata": {
        "id": "zIJ4ee1_zKY6"
      },
      "execution_count": null,
      "outputs": []
    },
    {
      "cell_type": "code",
      "source": [
        "# print values from 1st train batch\n",
        "a, b = next(iter(train_ld))\n",
        "print(a)\n",
        "print(b)"
      ],
      "metadata": {
        "colab": {
          "base_uri": "https://localhost:8080/"
        },
        "id": "ZCVFsOlez8Pa",
        "outputId": "8db552d4-9e42-4b79-c338-f840228444c1"
      },
      "execution_count": null,
      "outputs": [
        {
          "output_type": "stream",
          "name": "stdout",
          "text": [
            "tensor([[ 33.,  34.],\n",
            "        [ 19.,  20.],\n",
            "        [  9.,  10.],\n",
            "        [ 49.,  50.],\n",
            "        [ 39.,  40.],\n",
            "        [ 65.,  66.],\n",
            "        [113., 114.],\n",
            "        [ 79.,  80.]], device='cuda:0')\n",
            "tensor([[ 67.],\n",
            "        [ 39.],\n",
            "        [ 19.],\n",
            "        [ 99.],\n",
            "        [ 79.],\n",
            "        [131.],\n",
            "        [227.],\n",
            "        [159.]], device='cuda:0')\n"
          ]
        }
      ]
    },
    {
      "cell_type": "code",
      "source": [
        "len(train_ld.dataset)"
      ],
      "metadata": {
        "colab": {
          "base_uri": "https://localhost:8080/"
        },
        "id": "0wKbvD-JxqAB",
        "outputId": "44a3ea87-c0f1-441e-deee-2eb35404f5ff"
      },
      "execution_count": null,
      "outputs": [
        {
          "output_type": "execute_result",
          "data": {
            "text/plain": [
              "48"
            ]
          },
          "metadata": {},
          "execution_count": 14
        }
      ]
    },
    {
      "cell_type": "code",
      "source": [
        "# length of train batch\n",
        "len(train_ld)"
      ],
      "metadata": {
        "colab": {
          "base_uri": "https://localhost:8080/"
        },
        "id": "lg_i-b5i2kKi",
        "outputId": "7118e7ae-e517-4064-e71c-ae9c10c21aa8"
      },
      "execution_count": null,
      "outputs": [
        {
          "output_type": "execute_result",
          "data": {
            "text/plain": [
              "6"
            ]
          },
          "metadata": {},
          "execution_count": 15
        }
      ]
    },
    {
      "cell_type": "markdown",
      "source": [
        "### Build a neural network\n",
        "> In the previous notebook, we built the layers of our neural network manually. However, we never have to do that unless we're building a complicated network\n",
        "\n"
      ],
      "metadata": {
        "id": "l0e0YDEw8CeF"
      }
    },
    {
      "cell_type": "markdown",
      "source": [
        "> 💎 **Pro Tip**  \n",
        "\n",
        "> For straightforward `forward` computations, we can easily specify the layers and the sequence with which layers are to be stacked using [`nn.Sequential()`](https://pytorch.org/docs/stable/generated/torch.nn.Sequential.html#sequential)\n",
        "\n",
        "> ✋ **Info**\n",
        "\n",
        "> Our neural network will consist of 3 [`nn.LinearLayers(in_features, out_features)`](https://pytorch.org/docs/stable/generated/torch.nn.Linear.html#linear) and [`nn.ReLu`](https://pytorch.org/docs/stable/generated/torch.nn.ReLU.html#relu) sandwitched between them to introduce non-linearity\n",
        "+ For out case, the `nn.Linear` accepts a two-dimensional input\n",
        "and gives an eight-dimensional output for each data point"
      ],
      "metadata": {
        "id": "fp5yRhcExh-_"
      }
    },
    {
      "cell_type": "code",
      "source": [
        "torch.manual_seed(42)\n",
        "\n",
        "# stacking layers in the neural network:\n",
        "model = nn.Sequential(\n",
        "    nn.Linear(in_features=2, out_features=8),\n",
        "    nn.ReLU(),\n",
        "    nn.Linear(in_features=8, out_features=8),\n",
        "    nn.ReLU(),\n",
        "    nn.Linear(in_features=8, out_features=1)\n",
        ").to(device)\n"
      ],
      "metadata": {
        "id": "5JbCP5mB8Zkr"
      },
      "execution_count": null,
      "outputs": []
    },
    {
      "cell_type": "markdown",
      "source": [
        "#### Visualize model structure\n",
        "> To do this, we'll use [`torchinfo`](https://github.com/TylerYep/torchinfo)"
      ],
      "metadata": {
        "id": "SnT0KNFz6YHW"
      }
    },
    {
      "cell_type": "code",
      "source": [
        "# install the library\n",
        "!pip install torchinfo\n",
        "# import summary\n",
        "from torchinfo import summary"
      ],
      "metadata": {
        "colab": {
          "base_uri": "https://localhost:8080/"
        },
        "id": "EyQNzK_K6l6S",
        "outputId": "0434a74a-396e-4623-cbdd-e38b84e96bd8"
      },
      "execution_count": null,
      "outputs": [
        {
          "output_type": "stream",
          "name": "stdout",
          "text": [
            "Collecting torchinfo\n",
            "  Downloading torchinfo-1.8.0-py3-none-any.whl.metadata (21 kB)\n",
            "Downloading torchinfo-1.8.0-py3-none-any.whl (23 kB)\n",
            "Installing collected packages: torchinfo\n",
            "Successfully installed torchinfo-1.8.0\n"
          ]
        }
      ]
    },
    {
      "cell_type": "code",
      "source": [
        "summary(model, input_size=(2,))"
      ],
      "metadata": {
        "colab": {
          "base_uri": "https://localhost:8080/"
        },
        "id": "1UCCf17J6zNI",
        "outputId": "9e5b5869-e85d-44f7-d6bd-cac9e31b1872"
      },
      "execution_count": null,
      "outputs": [
        {
          "output_type": "execute_result",
          "data": {
            "text/plain": [
              "==========================================================================================\n",
              "Layer (type:depth-idx)                   Output Shape              Param #\n",
              "==========================================================================================\n",
              "Sequential                               [1]                       --\n",
              "├─Linear: 1-1                            [8]                       24\n",
              "├─ReLU: 1-2                              [8]                       --\n",
              "├─Linear: 1-3                            [8]                       72\n",
              "├─ReLU: 1-4                              [8]                       --\n",
              "├─Linear: 1-5                            [1]                       9\n",
              "==========================================================================================\n",
              "Total params: 105\n",
              "Trainable params: 105\n",
              "Non-trainable params: 0\n",
              "Total mult-adds (M): 0.00\n",
              "==========================================================================================\n",
              "Input size (MB): 0.00\n",
              "Forward/backward pass size (MB): 0.00\n",
              "Params size (MB): 0.00\n",
              "Estimated Total Size (MB): 0.00\n",
              "=========================================================================================="
            ]
          },
          "metadata": {},
          "execution_count": 18
        }
      ]
    },
    {
      "cell_type": "markdown",
      "source": [
        "### Early stopping\n",
        "> 💎 **Pro Tip**\n",
        "\n",
        "> _Early stopping_ is a mechanism of stopping training when the validation loss stops improving; with a view to preventing _overfitting_ on the training data\n",
        "+ Here, we'll create a class to take care of _early-stopping_"
      ],
      "metadata": {
        "id": "8TFUSqgU3NBP"
      }
    },
    {
      "cell_type": "code",
      "source": [
        "# define a class for early stopping\n",
        "from copy import deepcopy\n",
        "\n",
        "class EarlyStopping:\n",
        "  '''\n",
        "    patience -> the number of epochs to wait after the last improvement\n",
        "                before stopping\n",
        "\n",
        "    counter -> how many epochs have passed since the last improvement\n",
        "\n",
        "    min_delta -> how much of a difference in loss is to be considered\n",
        "          worthy to continue training\n",
        "  '''\n",
        "  def __init__(self, min_delta:float=0.0, patience:int=5):\n",
        "    self.patience = patience\n",
        "    self.min_delta = min_delta\n",
        "    self.counter = 0\n",
        "    self.best_epoch = None\n",
        "    self.best_loss = None\n",
        "    self.best_state_dict = None\n",
        "    self.stop_early = False\n",
        "\n",
        "  def __call__(self, model:nn.Module, ep:int, ts_loss:float):\n",
        "    if self.best_epoch is None: # for first time:\n",
        "      self.best_epoch = ep # store current epoch\n",
        "      self.best_loss = ts_loss # store current loss as best loss\n",
        "      # make a copy of current model's state_dict\n",
        "      self.best_state_dict = deepcopy(model.state_dict())\n",
        "\n",
        "    # if previous loss - current loss exceeds min_delta:\n",
        "    elif self.best_loss - ts_loss >= self.min_delta:\n",
        "      self.best_epoch = ep # store current epoch\n",
        "      self.best_loss = ts_loss # store current loss as best\n",
        "      # make a copy of current model's state_dict\n",
        "      self.best_state_dict = deepcopy(model.state_dict())\n",
        "      self.counter = 0 # restore counter to zero\n",
        "\n",
        "    else: # otherwise\n",
        "      self.counter += 1 # increment counter each time\n",
        "      if self.counter >= self.patience:\n",
        "        self.stop_early = True\n"
      ],
      "metadata": {
        "id": "xo6PaqCewSJD"
      },
      "execution_count": null,
      "outputs": []
    },
    {
      "cell_type": "markdown",
      "source": [
        "### Loss function and optimizer\n",
        "> ✋ **Info**\n",
        "+ Since this is a regression problem, we'll use [`nn.L1Loss`](https://pytorch.org/docs/stable/generated/torch.nn.L1Loss.html#torch.nn.L1Loss) as the cost function  \n",
        "+ Also, we'll use [`torch.optim.SGD`](https://pytorch.org/docs/stable/generated/torch.optim.SGD.html#torch.optim.SGD) as optimizer"
      ],
      "metadata": {
        "id": "J5qmqkYDzal7"
      }
    },
    {
      "cell_type": "code",
      "source": [
        "# loss function\n",
        "loss_fn = nn.L1Loss()\n",
        "# optimizer\n",
        "\n",
        "opt = torch.optim.SGD(model.parameters(),\n",
        "                      lr=0.00035, # learning rate\n",
        "                      weight_decay=1e-3) # l2 regularization to avoid overfitting\n"
      ],
      "metadata": {
        "id": "XlyZ0nN_zdfn"
      },
      "execution_count": null,
      "outputs": []
    },
    {
      "cell_type": "markdown",
      "source": [
        "### Model Training\n",
        "> Here, we'll create an optimization loop"
      ],
      "metadata": {
        "id": "MPk8iE7f8Nb1"
      }
    },
    {
      "cell_type": "code",
      "source": [
        "# initialize empty lists\n",
        "train_loss, test_loss, ep_list = [], [], []\n",
        "# epochs\n",
        "epochs = 21\n",
        "\n",
        "# initialize early stopping\n",
        "e_stop = EarlyStopping(patience=10)"
      ],
      "metadata": {
        "id": "j_BFA2GxvnWW"
      },
      "execution_count": null,
      "outputs": []
    },
    {
      "cell_type": "code",
      "source": [
        "%%time\n",
        "torch.manual_seed(42)\n",
        "torch.cuda.manual_seed(42)\n",
        "\n",
        "# training loop\n",
        "for ep in range(1, epochs):\n",
        "  # training mode\n",
        "  model.train()\n",
        "\n",
        "  tr_loss, ts_loss = [], []\n",
        "\n",
        "  for x_tr, y_tr in train_ld:\n",
        "    # zero grad\n",
        "    opt.zero_grad()\n",
        "    # forward pass\n",
        "    tr_preds = model(x_tr)\n",
        "    # calculate loss\n",
        "    loss = loss_fn(tr_preds, y_tr)\n",
        "    tr_loss.append(loss.item())\n",
        "    # back propagation\n",
        "    loss.backward()\n",
        "    # gradient descent\n",
        "    opt.step()\n",
        "\n",
        "  # append mean of training loss across all batches\n",
        "  av_tr_loss = np.mean(tr_loss)\n",
        "  train_loss.append(av_tr_loss)\n",
        "\n",
        "  # eval\n",
        "\n",
        "  model.eval()\n",
        "  for x_ts, y_ts in test_ld:\n",
        "    with torch.inference_mode():\n",
        "      # forward pass\n",
        "      ts_preds = model(x_ts)\n",
        "      # calculate loss\n",
        "      loss = loss_fn(ts_preds, y_ts)\n",
        "      ts_loss.append(loss.item())\n",
        "\n",
        "  av_ts_loss = np.mean(ts_loss)\n",
        "  test_loss.append(av_ts_loss)\n",
        "  ep_list.append(ep) # append current epoch to list\n",
        "\n",
        "\n",
        "  # early stopping\n",
        "  if e_stop.stop_early == False:\n",
        "    e_stop(model, ep, np.mean(ts_loss))\n",
        "\n",
        "    '''\n",
        "    if e_stop.stop_early:\n",
        "      print(f'\\nSTOPPED | BEST Epoch: {e_stop.best_epoch} | Loss: {e_stop.best_loss}\\n')\n",
        "    '''\n",
        "\n",
        "  print(f'Epoch: {ep} | Train Loss: {av_tr_loss:.2f} | Eval loss: {av_ts_loss:.2f}')\n",
        "\n",
        "# early stopping\n",
        "print(f'\\nSTOPPED | BEST Epoch: {e_stop.best_epoch} | Loss: {e_stop.best_loss}\\n')"
      ],
      "metadata": {
        "colab": {
          "base_uri": "https://localhost:8080/"
        },
        "id": "X7fwBkh68QpF",
        "outputId": "47197e7d-a4fa-4508-e55f-1b45f54db3e1"
      },
      "execution_count": null,
      "outputs": [
        {
          "output_type": "stream",
          "name": "stdout",
          "text": [
            "Epoch: 1 | Train Loss: 127.05 | Eval loss: 150.92\n",
            "Epoch: 2 | Train Loss: 120.36 | Eval loss: 143.65\n",
            "Epoch: 3 | Train Loss: 114.62 | Eval loss: 136.62\n",
            "Epoch: 4 | Train Loss: 108.56 | Eval loss: 128.46\n",
            "Epoch: 5 | Train Loss: 101.46 | Eval loss: 118.36\n",
            "Epoch: 6 | Train Loss: 91.41 | Eval loss: 102.17\n",
            "Epoch: 7 | Train Loss: 74.75 | Eval loss: 74.23\n",
            "Epoch: 8 | Train Loss: 45.21 | Eval loss: 22.15\n",
            "Epoch: 9 | Train Loss: 8.23 | Eval loss: 4.03\n",
            "Epoch: 10 | Train Loss: 6.38 | Eval loss: 0.61\n",
            "Epoch: 11 | Train Loss: 5.86 | Eval loss: 10.96\n",
            "Epoch: 12 | Train Loss: 6.42 | Eval loss: 9.45\n",
            "Epoch: 13 | Train Loss: 6.68 | Eval loss: 3.41\n",
            "Epoch: 14 | Train Loss: 5.65 | Eval loss: 13.35\n",
            "Epoch: 15 | Train Loss: 6.86 | Eval loss: 8.44\n",
            "Epoch: 16 | Train Loss: 6.45 | Eval loss: 0.82\n",
            "Epoch: 17 | Train Loss: 6.28 | Eval loss: 1.05\n",
            "Epoch: 18 | Train Loss: 6.08 | Eval loss: 8.99\n",
            "Epoch: 19 | Train Loss: 5.76 | Eval loss: 13.92\n",
            "Epoch: 20 | Train Loss: 7.04 | Eval loss: 6.15\n",
            "\n",
            "STOPPED | BEST Epoch: 10 | Loss: 0.6079770922660828\n",
            "\n",
            "CPU times: user 299 ms, sys: 70.8 ms, total: 370 ms\n",
            "Wall time: 649 ms\n"
          ]
        }
      ]
    },
    {
      "cell_type": "markdown",
      "source": [
        "> 📝 **Note**  \n",
        "> Ideally, _early-stopping_ mechanism should have been placed inside the optimization loop, but since I wasn't training for a lot of epochs; and since this is a simple problem anway, it was placed outside. Besides, it helps in visualization of training progress.\n",
        "+ The beauty of PyTorch is that it's highly customizable like that"
      ],
      "metadata": {
        "id": "XERmX5Y07W4d"
      }
    },
    {
      "cell_type": "markdown",
      "source": [
        "### Model Evaluation\n",
        "> We'll evaluate the model by plotting loss curves and calculating various evaluation metrics\n",
        "\n",
        "> ✋ **Info**\n",
        "+ I'll use [scikit-learn regression metrics](https://scikit-learn.org/stable/api/sklearn.metrics.html#regression-metrics) to evaluate the neural network\n"
      ],
      "metadata": {
        "id": "-8UbtUjRpySs"
      }
    },
    {
      "cell_type": "code",
      "source": [
        "# plot training losses\n",
        "plot_losses(ep_list, train_loss, test_loss,\n",
        "                   best_epoch=e_stop.best_epoch)"
      ],
      "metadata": {
        "colab": {
          "base_uri": "https://localhost:8080/",
          "height": 328
        },
        "id": "QHnpET8y5vJB",
        "outputId": "93c7bba0-1c20-4836-e357-2758b07a511d"
      },
      "execution_count": null,
      "outputs": [
        {
          "output_type": "display_data",
          "data": {
            "text/plain": [
              "<Figure size 500x300 with 1 Axes>"
            ],
            "image/png": "[encoded data removed]"
          },
          "metadata": {}
        }
      ]
    },
    {
      "cell_type": "markdown",
      "source": [
        "#### Rerieving the best model\n",
        "> We'd saved the best model's `state_dict` inside the `e_stop` object, hence, we can retrieve it and overwrite the original `model` `state_dict` using [`nn.Module.load_state_dict`](https://pytorch.org/docs/stable/generated/torch.nn.Module.html#torch.nn.Module.load_state_dict)"
      ],
      "metadata": {
        "id": "GIS1Ddt2vf5J"
      }
    },
    {
      "cell_type": "code",
      "source": [
        "# getting the keys in the state_dict dictionary\n",
        "e_stop.best_state_dict.keys()"
      ],
      "metadata": {
        "colab": {
          "base_uri": "https://localhost:8080/"
        },
        "id": "zi4ojHQZx4Sg",
        "outputId": "4c956272-eb99-4747-b75f-18706af689e7"
      },
      "execution_count": null,
      "outputs": [
        {
          "output_type": "execute_result",
          "data": {
            "text/plain": [
              "odict_keys(['0.weight', '0.bias', '2.weight', '2.bias', '4.weight', '4.bias'])"
            ]
          },
          "metadata": {},
          "execution_count": 24
        }
      ]
    },
    {
      "cell_type": "code",
      "source": [
        "# we'll check for equality for either parameters (just for the sake)\n",
        "torch.eq(e_stop.best_state_dict['0.weight'], model.state_dict()['0.weight'])"
      ],
      "metadata": {
        "colab": {
          "base_uri": "https://localhost:8080/"
        },
        "id": "szZQZboYzNK0",
        "outputId": "5d7317de-1275-484f-b9ec-1ab2ee009a10"
      },
      "execution_count": null,
      "outputs": [
        {
          "output_type": "execute_result",
          "data": {
            "text/plain": [
              "tensor([[False, False],\n",
              "        [False, False],\n",
              "        [False, False],\n",
              "        [False, False],\n",
              "        [False, False],\n",
              "        [False, False],\n",
              "        [False, False],\n",
              "        [False, False]], device='cuda:0')"
            ]
          },
          "metadata": {},
          "execution_count": 25
        }
      ]
    },
    {
      "cell_type": "code",
      "source": [
        "# load state_dict from best model\n",
        "model.load_state_dict(e_stop.best_state_dict)"
      ],
      "metadata": {
        "colab": {
          "base_uri": "https://localhost:8080/"
        },
        "id": "KqTi1BXpvsHn",
        "outputId": "e4ba4f5a-9fa8-4299-8620-93a8a86891a9"
      },
      "execution_count": null,
      "outputs": [
        {
          "output_type": "execute_result",
          "data": {
            "text/plain": [
              "<All keys matched successfully>"
            ]
          },
          "metadata": {},
          "execution_count": 26
        }
      ]
    },
    {
      "cell_type": "code",
      "source": [
        "# check to confirm\n",
        "torch.eq(e_stop.best_state_dict['0.weight'], model.state_dict()['0.weight'])"
      ],
      "metadata": {
        "colab": {
          "base_uri": "https://localhost:8080/"
        },
        "id": "s-OD6tso3OS7",
        "outputId": "5d910a5f-06b2-4621-c2ad-dcbd2dd15ed0"
      },
      "execution_count": null,
      "outputs": [
        {
          "output_type": "execute_result",
          "data": {
            "text/plain": [
              "tensor([[True, True],\n",
              "        [True, True],\n",
              "        [True, True],\n",
              "        [True, True],\n",
              "        [True, True],\n",
              "        [True, True],\n",
              "        [True, True],\n",
              "        [True, True]], device='cuda:0')"
            ]
          },
          "metadata": {},
          "execution_count": 27
        }
      ]
    },
    {
      "cell_type": "code",
      "source": [
        "X_test.device"
      ],
      "metadata": {
        "colab": {
          "base_uri": "https://localhost:8080/"
        },
        "id": "VK4J1qEFsiUa",
        "outputId": "92cd994b-800a-4b68-98d6-571197945c42"
      },
      "execution_count": null,
      "outputs": [
        {
          "output_type": "execute_result",
          "data": {
            "text/plain": [
              "device(type='cpu')"
            ]
          },
          "metadata": {},
          "execution_count": 29
        }
      ]
    },
    {
      "cell_type": "code",
      "source": [
        "# get prediction from best model\n",
        "with torch.inference_mode():\n",
        "  y_pred = model(X_test.to(device)).cpu().numpy()"
      ],
      "metadata": {
        "id": "lxKi8zgRqJP2"
      },
      "execution_count": null,
      "outputs": []
    },
    {
      "cell_type": "markdown",
      "source": [
        "#### [`mean_squared_error`](https://scikit-learn.org/stable/modules/generated/sklearn.metrics.mean_squared_error.html#sklearn.metrics.mean_squared_error)"
      ],
      "metadata": {
        "id": "QWUoOoN4onOL"
      }
    },
    {
      "cell_type": "code",
      "source": [
        "from sklearn.metrics import mean_squared_error\n",
        "\n",
        "# calculate\n",
        "mse = mean_squared_error(y_true=y_test.cpu().numpy(),\n",
        "                         y_pred=y_pred)\n",
        "# print\n",
        "print(f'Mean Squared Error: {mse:.3f}')"
      ],
      "metadata": {
        "colab": {
          "base_uri": "https://localhost:8080/"
        },
        "id": "r6P_QspHpq4O",
        "outputId": "660b9f13-6e38-4568-debb-a32f3c047c67"
      },
      "execution_count": null,
      "outputs": [
        {
          "output_type": "stream",
          "name": "stdout",
          "text": [
            "Mean Squared Error: 0.401\n"
          ]
        }
      ]
    },
    {
      "cell_type": "markdown",
      "source": [
        "#### [`root_mean_squared_error`](https://scikit-learn.org/stable/modules/generated/sklearn.metrics.root_mean_squared_error.html#sklearn.metrics.root_mean_squared_error)"
      ],
      "metadata": {
        "id": "Qphchh5Gprxz"
      }
    },
    {
      "cell_type": "code",
      "source": [
        "from sklearn.metrics import mean_absolute_error\n",
        "\n",
        "# calculate\n",
        "rmse = mean_absolute_error(y_true=y_test.cpu().numpy(),\n",
        "                         y_pred=y_pred)\n",
        "# print\n",
        "print(f'Mean Absolute Error: {rmse:.3f}')"
      ],
      "metadata": {
        "colab": {
          "base_uri": "https://localhost:8080/"
        },
        "id": "1R8UXmzup82m",
        "outputId": "8b186ab9-90b5-4fae-f20b-ccb72875bd2b"
      },
      "execution_count": null,
      "outputs": [
        {
          "output_type": "stream",
          "name": "stdout",
          "text": [
            "Mean Absolute Error: 0.583\n"
          ]
        }
      ]
    },
    {
      "cell_type": "markdown",
      "source": [
        "#### [`r2_score`](https://scikit-learn.org/stable/modules/generated/sklearn.metrics.r2_score.html#sklearn.metrics.r2_score)"
      ],
      "metadata": {
        "id": "kbdrM8rrp-D6"
      }
    },
    {
      "cell_type": "code",
      "source": [
        "from sklearn.metrics import r2_score\n",
        "\n",
        "# calculate\n",
        "r2 = r2_score(y_true=y_test.cpu().numpy(),\n",
        "                         y_pred=y_pred)\n",
        "# print\n",
        "print(f'R2 Score: {r2:.3f}')"
      ],
      "metadata": {
        "colab": {
          "base_uri": "https://localhost:8080/"
        },
        "id": "9WshZMQzqDpm",
        "outputId": "7e73876f-ac0a-4158-9b91-828db75fc7fc"
      },
      "execution_count": null,
      "outputs": [
        {
          "output_type": "stream",
          "name": "stdout",
          "text": [
            "R2 Score: 1.000\n"
          ]
        }
      ]
    },
    {
      "cell_type": "markdown",
      "source": [
        "### Conclusion\n",
        "> From the evaluation metrics, the model we trained seems to have done incredibly well.\n",
        "\n",
        "> Where a lower value indicates a better model fit, the model achieved the following scores:\n",
        "+ `mean_squared_error` = `0.401`\n",
        "+ `root_mean_squared_error` = `0.633`\n",
        "\n",
        "> On a scale of `0` -> `1`, the model achieved:\n",
        "+ `r2_score` = `1.000`"
      ],
      "metadata": {
        "id": "-cBZ_3hvujpe"
      }
    },
    {
      "cell_type": "markdown",
      "source": [
        "### Saving the model\n",
        "> We'll also use [`pathlib`](https://docs.python.org/3/library/pathlib.html) - a Python module that provides OOP interface for working with file system paths\n",
        "> 💎 **Pro Tip**\n",
        "+ A good practice is to transfer the model to\n",
        "the CPU before calling torch.save, as this will save tensors as CPU tensors and not as CUDA tensors.\n",
        "+ This will help in loading the model onto any machine, whether it contains CUDA capabilities or not\n",
        "+ The [official PyTorch documentation](https://pytorch.org/tutorials/beginner/saving_loading_models.html#saving-loading-model-for-inference) **recommends** saving and loading a model from the model's [`state_dict`]((https://pytorch.org/docs/stable/generated/torch.nn.Module.html#torch.nn.Module.state_dict))"
      ],
      "metadata": {
        "id": "HI99pAVa4eFC"
      }
    },
    {
      "cell_type": "code",
      "source": [
        "from pathlib import Path\n",
        "\n",
        "# parent directory\n",
        "PARENT = Path('models')\n",
        "PARENT.mkdir(parents=True, exist_ok=True)\n",
        "\n",
        "# make model path with name\n",
        "MODEL_NAME = 'regression_model_2_pytorch.pth'\n",
        "MODEL_PATH = PARENT/MODEL_NAME\n",
        "# print path\n",
        "print(MODEL_PATH)"
      ],
      "metadata": {
        "colab": {
          "base_uri": "https://localhost:8080/"
        },
        "id": "dyidV3dg4gnb",
        "outputId": "e04bd2c7-3af7-47fb-f353-63a893df5af5"
      },
      "execution_count": null,
      "outputs": [
        {
          "output_type": "stream",
          "name": "stdout",
          "text": [
            "models/regression_model_2_pytorch.pth\n"
          ]
        }
      ]
    },
    {
      "cell_type": "code",
      "source": [
        "# save model to directory (move it to CPU first)\n",
        "torch.save(obj=model.to('cpu').state_dict(), f=MODEL_PATH)\n",
        "print(f'Model successfully saved to: {MODEL_PATH}')"
      ],
      "metadata": {
        "colab": {
          "base_uri": "https://localhost:8080/"
        },
        "id": "Y2_Uppof5FkI",
        "outputId": "8ae1fb4d-a874-45f8-ef97-f807ee30d57c"
      },
      "execution_count": null,
      "outputs": [
        {
          "output_type": "stream",
          "name": "stdout",
          "text": [
            "Model successfully saved to: models/regression_model_2_pytorch.pth\n"
          ]
        }
      ]
    },
    {
      "cell_type": "markdown",
      "source": [
        "> ▶️  **Up Next**\n",
        "+ Classification (on tabular data) using PyTorch\n",
        "\n",
        "> Until next time, 👋\n",
        "\n"
      ],
      "metadata": {
        "id": "1R058cAm50Wo"
      }
    }
  ]
}