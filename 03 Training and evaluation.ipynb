{
  "nbformat": 4,
  "nbformat_minor": 0,
  "metadata": {
    "colab": {
      "provenance": [],
      "toc_visible": true,
      "authorship_tag": "ABX9TyNGkFq+Dp9gvMHQEyFtdckV",
      "include_colab_link": true
    },
    "kernelspec": {
      "name": "python3",
      "display_name": "Python 3"
    },
    "language_info": {
      "name": "python"
    }
  },
  "cells": [
    {
      "cell_type": "markdown",
      "metadata": {
        "id": "view-in-github",
        "colab_type": "text"
      },
      "source": [
        "<a href=\"https://colab.research.google.com/github/Martinmbiro/PyTorch-workflow/blob/main/03%20Training%20and%20evaluation.ipynb\" target=\"_parent\"><img src=\"https://colab.research.google.com/assets/colab-badge.svg\" alt=\"Open In Colab\"/></a>"
      ]
    },
    {
      "cell_type": "markdown",
      "source": [
        "# **Model Training**\n",
        "> In the previous notebook when we performed inferencing using the method, the values we got were erronious since the `weight` and `bias` _parameters_ were randomly instantiated\n",
        "\n",
        "> Training is needed to better map the _parameters_ to the data"
      ],
      "metadata": {
        "id": "mNKShPe1NJFR"
      }
    },
    {
      "cell_type": "code",
      "source": [
        "# import\n",
        "import torch, matplotlib.pyplot as plt\n",
        "# specify style sheet to use\n",
        "plt.style.use('fast')\n",
        "\n",
        "torch.__version__"
      ],
      "metadata": {
        "colab": {
          "base_uri": "https://localhost:8080/"
        },
        "id": "o9kHiepJEWN5",
        "outputId": "ae1c39f3-2790-4197-cefe-0b2af3615a96"
      },
      "execution_count": null,
      "outputs": [
        {
          "output_type": "execute_result",
          "data": {
            "text/plain": [
              "'2.5.1+cu121'"
            ],
            "application/vnd.google.colaboratory.intrinsic+json": {
              "type": "string"
            }
          },
          "metadata": {},
          "execution_count": 1
        }
      ]
    },
    {
      "cell_type": "code",
      "source": [
        "# set up device\n",
        "if torch.cuda.is_available():\n",
        "  device = 'cuda'\n",
        "elif torch.backends.mps.is_available():\n",
        "  device= 'mps'\n",
        "else:\n",
        "  device = 'cpu'"
      ],
      "metadata": {
        "id": "7vIz1P5SBPyv"
      },
      "execution_count": null,
      "outputs": []
    },
    {
      "cell_type": "markdown",
      "source": [
        "### Creating data using the linear regression formula\n",
        "> Recall the linear regression formula  \n",
        "+ We'll use known parameters for `m` and `c` as `weight` and `bias` respectively, to map the input, `X` to the output `y`\n",
        "\n",
        "```\n",
        "    y = mX + c\n",
        "\n",
        "```"
      ],
      "metadata": {
        "id": "5MboQLbY6CO_"
      }
    },
    {
      "cell_type": "code",
      "source": [
        "# create known parameters\n",
        "weight = 0.7\n",
        "bias = 0.3"
      ],
      "metadata": {
        "id": "WmpDSv776H_q"
      },
      "execution_count": null,
      "outputs": []
    },
    {
      "cell_type": "markdown",
      "source": [
        "> ✋ **Info**  \n",
        "+ We'll use [`torch.arange()`](https://pytorch.org/docs/stable/generated/torch.arange.html#torch-arange) to generate values between `0` and `1` with a step of `0.02` between values\n",
        "+ [`Tensor.unsqueeze()`](https://pytorch.org/docs/stable/generated/torch.unsqueeze.html#torch.unsqueeze) will add a dimension of size `1` at position `1` so that we have n _rows_, but `1` _column_ for the entire data"
      ],
      "metadata": {
        "id": "oBzQrYJ4IHcJ"
      }
    },
    {
      "cell_type": "code",
      "source": [
        "# create data, input and target\n",
        "# input\n",
        "X = torch.arange(0, 1, 0.02).unsqueeze(dim=1)\n",
        "\n",
        "# output\n",
        "y = weight * X + bias"
      ],
      "metadata": {
        "id": "jmRhkZZiGKTW"
      },
      "execution_count": null,
      "outputs": []
    },
    {
      "cell_type": "code",
      "source": [
        "# check shape of data\n",
        "print(f'Input shape: {y.shape}')\n",
        "print(f'Output shape: {X.shape}')"
      ],
      "metadata": {
        "colab": {
          "base_uri": "https://localhost:8080/"
        },
        "id": "E9-BIoGuJIqV",
        "outputId": "5b23416b-5bd4-4294-c533-4110c19d4d10"
      },
      "execution_count": null,
      "outputs": [
        {
          "output_type": "stream",
          "name": "stdout",
          "text": [
            "Input shape: torch.Size([50, 1])\n",
            "Output shape: torch.Size([50, 1])\n"
          ]
        }
      ]
    },
    {
      "cell_type": "code",
      "source": [
        "# visualize data (first 5 values for X and y)\n",
        "print(X[:, 0][:5])\n",
        "print(y[:, 0][:5])"
      ],
      "metadata": {
        "colab": {
          "base_uri": "https://localhost:8080/"
        },
        "id": "QxhseuYbMYNe",
        "outputId": "228e4a71-78c7-4419-bdc7-20d9a18657f9"
      },
      "execution_count": null,
      "outputs": [
        {
          "output_type": "stream",
          "name": "stdout",
          "text": [
            "tensor([0.0000, 0.0200, 0.0400, 0.0600, 0.0800])\n",
            "tensor([0.3000, 0.3140, 0.3280, 0.3420, 0.3560])\n"
          ]
        }
      ]
    },
    {
      "cell_type": "markdown",
      "source": [
        "#### Splitting data into train and validation sets\n",
        "> ✋ **Info**\n",
        "\n",
        "> It is common practice to use 80% of a dataset for training and 20% for validation.\n",
        "+ We'll do that using a slicing index\n",
        "+ Alternatively, we could split by _filtering_ the tensor based on [`torch.Tensor.quantile()`](https://pytorch.org/docs/stable/generated/torch.Tensor.quantile.html#torch-tensor-quantile)"
      ],
      "metadata": {
        "id": "fHqhiKLUAwQ0"
      }
    },
    {
      "cell_type": "code",
      "source": [
        "# define a slicing index:\n",
        "train_split = round(0.8*len(X))\n",
        "\n",
        "# split into training and validation sets\n",
        "X_train, y_train = X[:train_split], y[:train_split]\n",
        "X_test, y_test = X[train_split:], y[train_split:]\n",
        "\n",
        "# size\n",
        "len(X_train), len(y_train), len(X_test), len(y_test)"
      ],
      "metadata": {
        "colab": {
          "base_uri": "https://localhost:8080/"
        },
        "id": "Y6DKpnKEFOPn",
        "outputId": "a20d188b-33f1-4c31-83d0-9628ac7b0d87"
      },
      "execution_count": null,
      "outputs": [
        {
          "output_type": "execute_result",
          "data": {
            "text/plain": [
              "(40, 40, 10, 10)"
            ]
          },
          "metadata": {},
          "execution_count": 7
        }
      ]
    },
    {
      "cell_type": "code",
      "source": [
        "# define a function to plot train, test and predicted values\n",
        "def plot_predictions(X_test=X_test, X_train=X_train,\n",
        "                     y_train=y_train, y_test=y_test, y_preds=None):\n",
        "  # can't plot on the GPU, hence if any of the values are on\n",
        "  # GPU, move them to CPU and proceed\n",
        "  if X_test.device != 'cpu':\n",
        "    X_test = X_test.cpu().numpy()\n",
        "    X_train = X_train.cpu().numpy()\n",
        "    y_test = y_test.cpu().numpy()\n",
        "    y_train = y_train.cpu().numpy()\n",
        "    if y_preds is not None:\n",
        "      y_preds = y_preds.cpu().numpy()\n",
        "\n",
        "  _, ax = plt.subplots(figsize=(5, 3.5), layout='constrained')\n",
        "  # train data\n",
        "  ax.scatter(x=X_train, y=y_train, s=4.5, c='#007fff',\n",
        "            label='Train Data')\n",
        "  # test data\n",
        "  ax.scatter(x=X_test, y=y_test, s=3.0, c='#ab274f',\n",
        "            label='Test Data')\n",
        "  # preds\n",
        "  if y_preds is not None:\n",
        "    ax.scatter(x=X_test, y=y_preds, c='black',\n",
        "              marker='*', label='y_preds')\n",
        "\n",
        "  ax.tick_params(axis='both', labelsize=9)\n",
        "  ax.set_ylabel('Target (y)')\n",
        "  ax.set_xlabel('Input (X)')\n",
        "  ax.set_title('Target values (y) vs Input values (X)',\n",
        "              weight='black', fontsize=11)\n",
        "\n",
        "  plt.legend(loc='upper right', fancybox=False,\n",
        "             fontsize=9,\n",
        "            bbox_to_anchor=(1.41, 1.025))\n",
        "  plt.show()"
      ],
      "metadata": {
        "id": "aHHLDY1tGr_J"
      },
      "execution_count": null,
      "outputs": []
    },
    {
      "cell_type": "code",
      "source": [
        "# define a function to plot training results\n",
        "def plot_train_results(ep_count:list, eval_loss:list, train_loss:list):\n",
        "  _, ax = plt.subplots(figsize=(5, 3), layout='constrained')\n",
        "  # train loss\n",
        "  ax.plot(ep_count, train_loss, color='#ab274f', linestyle='-',\n",
        "          linewidth=2.0, label='Training loss')\n",
        "\n",
        "  # eval_loss\n",
        "  ax.plot(ep_count, eval_loss, color='#0047ab', linestyle='--',\n",
        "          linewidth=2.0, label='Eval loss')\n",
        "\n",
        "  # ticks, labels, title\n",
        "  ax.tick_params(axis='both', labelsize=9)\n",
        "  ax.set_title('Training and Validation Loss across Epochs',\n",
        "              weight='black')\n",
        "  ax.set_ylabel('Loss (Mean Absolute Error)')\n",
        "  ax.set_xlabel('Epoch')\n",
        "\n",
        "  plt.grid(color='#e5e4e2')\n",
        "  _.legend(loc='upper right', fancybox=False,\n",
        "           fontsize=9, bbox_to_anchor=(1.27, 0.931))\n",
        "\n",
        "  plt.show()"
      ],
      "metadata": {
        "id": "V7LY0D8sNDRy"
      },
      "execution_count": null,
      "outputs": []
    },
    {
      "cell_type": "markdown",
      "source": [
        "### Build linear regression model\n",
        "> 📝 **Note**  \n",
        "\n",
        "> Recall the linear regression formula, `y = mX + c`  \n",
        "> In our case,\n",
        "+ `y`- Predicted output\n",
        "+ `m` - `weight'\n",
        "+ `c` - `bias`"
      ],
      "metadata": {
        "id": "TMwCCrpVBsSU"
      }
    },
    {
      "cell_type": "code",
      "source": [
        "from torch import nn\n",
        "# linear regression model class\n",
        "class LinearRegressionModel(nn.Module):\n",
        "  def __init__(self):\n",
        "    super().__init__()\n",
        "    self.weight = nn.Parameter(torch.randn(1))\n",
        "    self.bias = nn.Parameter(torch.randn(1))\n",
        "\n",
        "  def forward(self, x):\n",
        "    # m * x + c\n",
        "    return self.weight * x + self.bias"
      ],
      "metadata": {
        "id": "rmoiD8VxHqlW"
      },
      "execution_count": null,
      "outputs": []
    },
    {
      "cell_type": "code",
      "source": [
        "# for consistent results\n",
        "torch.manual_seed(42)\n",
        "\n",
        "# instantiate the model class\n",
        "model_1 = LinearRegressionModel().to(device=device)\n",
        "\n",
        "# print model parameters\n",
        "for key, val in model_1.state_dict().items():\n",
        "  print(key, val)\n"
      ],
      "metadata": {
        "colab": {
          "base_uri": "https://localhost:8080/"
        },
        "id": "n7xB0mgyJbnQ",
        "outputId": "2fa5f388-4285-4a59-e8be-c2c28a53938a"
      },
      "execution_count": null,
      "outputs": [
        {
          "output_type": "stream",
          "name": "stdout",
          "text": [
            "weight tensor([0.3367], device='cuda:0')\n",
            "bias tensor([0.1288], device='cuda:0')\n"
          ]
        }
      ]
    },
    {
      "cell_type": "markdown",
      "source": [
        "### [`Loss function`](https://pytorch.org/docs/stable/nn.html#loss-functions) and [`optimizer`](https://pytorch.org/docs/stable/optim.html#algorithms)\n",
        "> 📝 **Note**  \n",
        "+ **Loss function** - A function that measures how wrong the model predictions (`y_preds`) are compared to the ground truth (`y_test`) data\n",
        ">> + For this example, we'll use [`nn.L1Loss(y_pred, y_train)`](https://pytorch.org/docs/stable/generated/torch.nn.L1Loss.html#torch.nn.L1Loss) that calculates Mean Absolute Error\n",
        "+ **Optimizer** - An algorithm that updates the _parameters_ of a neural network to minimize the given _loss_ calculated by the loss function, through **gradient descent**\n",
        ">> + Here, we'll use [`torch.optim.SGD(params, lr)`](https://pytorch.org/docs/stable/generated/torch.optim.SGD.html#torch.optim.SGD)  \n",
        ">> + Usually, we optimize a model's _parameters_ hence they are passed as the first argument to an optimizer, followed by the learning rate"
      ],
      "metadata": {
        "id": "8htVDeX8B7PV"
      }
    },
    {
      "cell_type": "code",
      "execution_count": null,
      "metadata": {
        "id": "INJzI-qoC9co"
      },
      "outputs": [],
      "source": [
        "# instantiate loss function\n",
        "loss_fn = nn.L1Loss()\n",
        "\n",
        "# optimizer\n",
        "optimizer = torch.optim.SGD(model_1.parameters(),\n",
        "                            lr=0.01)"
      ]
    },
    {
      "cell_type": "markdown",
      "source": [
        "### Optimization loop\n",
        "> The next step is to create a training / testing loop."
      ],
      "metadata": {
        "id": "sc6UixIKLXc_"
      }
    },
    {
      "cell_type": "markdown",
      "source": [
        "> 📝 **Note**  \n",
        "> Inside the loop, we'll have the following operations:  \n",
        "1. Turn on training mode - calling [`model_1.train()`](https://pytorch.org/docs/stable/generated/torch.nn.Module.html#torch.nn.Module.train)\n",
        "2. Forward pass through the model - `model_1(X_train)`\n",
        "3. Calculate loss - by calling `loss_fn(y_preds, y_train)`\n",
        "4. Back-propagation - by calling `loss.backward()`\n",
        "5. Step the optimizer - perform gradient descent by calling [`optimizer.step()`](https://pytorch.org/docs/stable/generated/torch.optim.Optimizer.step.html#torch-optim-optimizer-step)\n",
        "6. Zero-grad - clear the gradients of all optimized parameters by calling [`optimizer.zero_grad()`](https://pytorch.org/docs/stable/generated/torch.optim.Optimizer.zero_grad.html#torch-optim-optimizer-zero-grad)\n",
        "7. Turn on evaluation mode - calling [`model_1.eval()`](https://pytorch.org/docs/stable/generated/torch.nn.Module.html#torch.nn.Module.eval)\n",
        "8. Evaluate the model"
      ],
      "metadata": {
        "id": "PJgMzaNMNL5o"
      }
    },
    {
      "cell_type": "code",
      "source": [
        "# put data on available device\n",
        "X_train, y_train = X_train.to(device), y_train.to(device)\n",
        "X_test, y_test = X_test.to(device), y_test.to(device)"
      ],
      "metadata": {
        "id": "Hz2Dzam1FoqW"
      },
      "execution_count": null,
      "outputs": []
    },
    {
      "cell_type": "code",
      "source": [
        "%%time\n",
        "torch.manual_seed(42)\n",
        "\n",
        "# epoch\n",
        "# (the number of times the data passes through the model)\n",
        "epochs = 201\n",
        "\n",
        "# lists to store epoch, train & eval loss\n",
        "ep_count, train_loss, eval_loss = list(), list(), list()\n",
        "\n",
        "for ep in range(epochs):\n",
        "  ep_count.append(ep)\n",
        "\n",
        "  # 1. turn on training mode\n",
        "  model_1.train()\n",
        "  # 2. forward pass\n",
        "  y_pred = model_1(X_train)\n",
        "\n",
        "  # 3. calculate loss\n",
        "  tr_ls = loss_fn(y_pred, y_train)\n",
        "  train_loss.append(tr_ls.item())\n",
        "\n",
        "  # 4. back-propagate\n",
        "  tr_ls.backward()\n",
        "  # 5. step optimizer\n",
        "  optimizer.step()\n",
        "  # 6. zero grad\n",
        "  optimizer.zero_grad()\n",
        "\n",
        "\n",
        "  # 7. turn on evaluation mode\n",
        "  model_1.eval()\n",
        "\n",
        "  # 8. evaluate model\n",
        "  with torch.inference_mode():\n",
        "    x_pred = model_1(X_test)\n",
        "\n",
        "    ts_ls = loss_fn(x_pred, y_test)\n",
        "    eval_loss.append(ts_ls.item())"
      ],
      "metadata": {
        "colab": {
          "base_uri": "https://localhost:8080/"
        },
        "id": "xHuw67xZAVTD",
        "outputId": "694e22fc-f1fa-4271-e6ca-f5646b572987"
      },
      "execution_count": null,
      "outputs": [
        {
          "output_type": "stream",
          "name": "stdout",
          "text": [
            "CPU times: user 218 ms, sys: 46.6 ms, total: 264 ms\n",
            "Wall time: 432 ms\n"
          ]
        }
      ]
    },
    {
      "cell_type": "markdown",
      "source": [
        "### Model Evaluation\n",
        "> Here's we'll evaluate our model by:\n",
        "+ Visualizing the loss (Mean Absolute Error) calculated by our chosen loss function [`nn.L1Loss`](https://pytorch.org/docs/stable/generated/torch.nn.L1Loss.html#torch.nn.L1Loss)\n",
        "+ Comparing the final learnt parameters to the original hand-coded `weight` and `bias` variables\n",
        "+ Visualizing and comparing the predicted values to the expected predictions based on the hand-coded `weight` and `bias`"
      ],
      "metadata": {
        "id": "0OCRGmcsJuXt"
      }
    },
    {
      "cell_type": "code",
      "source": [
        "# print initial hard coded parameters\n",
        "print(f'Initial weight: {weight}\\nInitial bias: {bias}\\n')\n",
        "\n",
        "# versus learnt parameters\n",
        "model_1.state_dict()"
      ],
      "metadata": {
        "colab": {
          "base_uri": "https://localhost:8080/"
        },
        "id": "-aHMfd2SCSP9",
        "outputId": "eec281d9-4f6b-48be-fb23-fb550548f4c1"
      },
      "execution_count": null,
      "outputs": [
        {
          "output_type": "stream",
          "name": "stdout",
          "text": [
            "Initial weight: 0.7\n",
            "Initial bias: 0.3\n",
            "\n"
          ]
        },
        {
          "output_type": "execute_result",
          "data": {
            "text/plain": [
              "OrderedDict([('weight', tensor([0.6951], device='cuda:0')),\n",
              "             ('bias', tensor([0.2993], device='cuda:0'))])"
            ]
          },
          "metadata": {},
          "execution_count": 15
        }
      ]
    },
    {
      "cell_type": "code",
      "source": [
        "# plot training results\n",
        "plot_train_results(ep_count, eval_loss, train_loss)"
      ],
      "metadata": {
        "colab": {
          "base_uri": "https://localhost:8080/",
          "height": 328
        },
        "id": "uj7C7WRHH4_a",
        "outputId": "7c0638f6-de5f-4966-abbf-adddc3bd4d62"
      },
      "execution_count": null,
      "outputs": [
        {
          "output_type": "display_data",
          "data": {
            "text/plain": [
              "<Figure size 500x300 with 1 Axes>"
            ],
            "image/png": "[encoded data removed]"
          },
          "metadata": {}
        }
      ]
    },
    {
      "cell_type": "code",
      "source": [
        "# make predictions and compare them to expected predictions\n",
        "with torch.inference_mode():\n",
        "  y_preds = model_1(X_test)\n",
        "  plot_predictions(y_preds=y_preds)"
      ],
      "metadata": {
        "colab": {
          "base_uri": "https://localhost:8080/",
          "height": 378
        },
        "id": "C6G7C_GNNqks",
        "outputId": "4a780b58-01bc-4a78-b9bc-a5b5c978cc06"
      },
      "execution_count": null,
      "outputs": [
        {
          "output_type": "display_data",
          "data": {
            "text/plain": [
              "<Figure size 500x350 with 1 Axes>"
            ],
            "image/png": "[encoded data removed]"
          },
          "metadata": {}
        }
      ]
    },
    {
      "cell_type": "markdown",
      "source": [
        "### Saving the model\n",
        "> ✋ **Info**  \n",
        "\n",
        "> The [official PyTorch documentation](https://pytorch.org/tutorials/beginner/saving_loading_models.html#saving-loading-model-for-inference) **recommends** saving and loading a model from the model's [`state_dict`](https://pytorch.org/docs/stable/generated/torch.nn.Module.html#torch.nn.Module.state_dict)\n",
        "+ The [`torch.save(obj, f)`](https://pytorch.org/docs/stable/generated/torch.save.html#torch-save) method saves a model's `state_dict`, `obj` to a disk file path `f`. This can be done right on Google Colab, and we can later download the model to the machine! 🎆\n",
        "+ A commom convention is to save python models with a `.pt` or `.pth` file extension\n",
        "+ We'll also use [`pathlib`](https://docs.python.org/3/library/pathlib.html) - a Python module that provides OOP interface for working with file system paths"
      ],
      "metadata": {
        "id": "ALL2hfaSKuZr"
      }
    },
    {
      "cell_type": "code",
      "source": [
        "from pathlib import Path\n",
        "\n",
        "# 1. create model directory\n",
        "PARENT = Path('models')\n",
        "PARENT.mkdir(parents=True, exist_ok=True)\n",
        "\n",
        "# 2. model name, path\n",
        "MODEL_NAME = 'regression_model_1_pytorch.pth'\n",
        "MODEL_PATH = PARENT/MODEL_NAME\n",
        "\n",
        "# 3. save model's state_dict\n",
        "torch.save(model_1.to('cpu').state_dict(), MODEL_PATH)"
      ],
      "metadata": {
        "id": "RNtiJrqVALDx"
      },
      "execution_count": null,
      "outputs": []
    },
    {
      "cell_type": "markdown",
      "source": [
        "#### Loading a saved model\n",
        "> The procedure is as follows\n",
        "+ Create an object of the original model class\n",
        "+ Then call [`load_state_dict()`](https://pytorch.org/docs/stable/generated/torch.nn.Module.html#torch.nn.Module.load_state_dict) on the object\n",
        "+ We'll then pass [`torch.load(f)`](https://pytorch.org/docs/stable/generated/torch.load.html#torch.load), where `f` is a path containing a previously saved model's `state_dict`  \n",
        "\n",
        "> ❗ **Disclaimer**\n",
        "+ You must call [`model.eval()`](https://pytorch.org/docs/stable/generated/torch.nn.Module.html#torch.nn.Module.eval) to set dropout and batch normalization layers to evaluation mode before running inference, otherwise, inconsistent inference results will be yielded"
      ],
      "metadata": {
        "id": "NuHHEyON8N3Y"
      }
    },
    {
      "cell_type": "code",
      "source": [
        "# create an object of the model\n",
        "loaded_model_1 = LinearRegressionModel()\n",
        "loaded_model_1.state_dict()"
      ],
      "metadata": {
        "colab": {
          "base_uri": "https://localhost:8080/"
        },
        "id": "0HMRtTYkw4g9",
        "outputId": "4f0ae75f-dc8d-42e5-89db-7b51157f2d2c"
      },
      "execution_count": null,
      "outputs": [
        {
          "output_type": "execute_result",
          "data": {
            "text/plain": [
              "OrderedDict([('weight', tensor([0.2345])), ('bias', tensor([0.2303]))])"
            ]
          },
          "metadata": {},
          "execution_count": 29
        }
      ]
    },
    {
      "cell_type": "code",
      "source": [
        "# load state_dict\n",
        "loaded_model_1.load_state_dict(torch.load(f=MODEL_PATH, weights_only=True))\n",
        "loaded_model_1.eval()\n",
        "\n",
        "# check loaded state_dict for both models\n",
        "print(loaded_model_1.state_dict())\n",
        "print(model_1.state_dict())"
      ],
      "metadata": {
        "colab": {
          "base_uri": "https://localhost:8080/"
        },
        "id": "H9800d49zbeJ",
        "outputId": "6d191cad-014d-4861-b577-988b11f2198b"
      },
      "execution_count": null,
      "outputs": [
        {
          "output_type": "stream",
          "name": "stdout",
          "text": [
            "OrderedDict([('weight', tensor([0.6951])), ('bias', tensor([0.2993]))])\n",
            "OrderedDict([('weight', tensor([0.6951])), ('bias', tensor([0.2993]))])\n"
          ]
        }
      ]
    },
    {
      "cell_type": "code",
      "source": [
        "# create a random dataset\n",
        "X_toy = torch.rand(5, 1)\n",
        "\n",
        "# compare predictions: (results should be true)\n",
        "model_1(X_toy) == loaded_model_1(X_toy)"
      ],
      "metadata": {
        "colab": {
          "base_uri": "https://localhost:8080/"
        },
        "id": "k1QdsXMt1H3x",
        "outputId": "89c0cb33-422a-4529-efcb-752e1d2caa9b"
      },
      "execution_count": null,
      "outputs": [
        {
          "output_type": "execute_result",
          "data": {
            "text/plain": [
              "tensor([[True],\n",
              "        [True],\n",
              "        [True],\n",
              "        [True],\n",
              "        [True]])"
            ]
          },
          "metadata": {},
          "execution_count": 52
        }
      ]
    },
    {
      "cell_type": "markdown",
      "source": [
        "### Final thoughts\n",
        "> Not too bad for a start, huh? However,   \n",
        "\n",
        "> 📝 **Note**  \n",
        "\n",
        "> This was an extremely simple example where we hand-coded the parameters and trained a model to learn the same. In real-world scenarios, the parameters are unknown\n",
        "+ To avoid training to a point of [overfitting](https://www.datacamp.com/blog/what-is-overfitting#:~:text=Overfitting:%20High%20accuracy%20on%20training,t%20even%20navigate%20your%20hometown.), we'll implement [early_stopping](https://medium.com/@Coursesteach/deep-learning-part-38-data-augmentation-and-early-stopping-17e6298dba1a#:~:text=Prevent%20overfitting:%20By%20stopping%20training,generalization%20to%20new%2C%20unseen%20data.) in the next notebook (early stopping is just one of the ways to prevent overfitting)"
      ],
      "metadata": {
        "id": "4_t_PTAWvnPZ"
      }
    },
    {
      "cell_type": "markdown",
      "source": [
        "> ▶️ **Up Next**\n",
        "\n",
        "> A final simple regression project with [`Dataset`](https://pytorch.org/docs/stable/data.html#torch.utils.data.Dataset), [`Dataloader`](https://pytorch.org/docs/stable/data.html#torch.utils.data.DataLoader) and **early_stopping** implemented"
      ],
      "metadata": {
        "id": "WtS02XPwvsFe"
      }
    }
  ]
}