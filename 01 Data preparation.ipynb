{
  "nbformat": 4,
  "nbformat_minor": 0,
  "metadata": {
    "colab": {
      "provenance": [],
      "toc_visible": true,
      "authorship_tag": "ABX9TyM68yKtbafha35Ff1oYam4C",
      "include_colab_link": true
    },
    "kernelspec": {
      "name": "python3",
      "display_name": "Python 3"
    },
    "language_info": {
      "name": "python"
    }
  },
  "cells": [
    {
      "cell_type": "markdown",
      "metadata": {
        "id": "view-in-github",
        "colab_type": "text"
      },
      "source": [
        "<a href=\"https://colab.research.google.com/github/Martinmbiro/PyTorch-workflow/blob/main/01%20Data%20preparation.ipynb\" target=\"_parent\"><img src=\"https://colab.research.google.com/assets/colab-badge.svg\" alt=\"Open In Colab\"/></a>"
      ]
    },
    {
      "cell_type": "markdown",
      "source": [
        "# **Data Preparation**\n",
        "> 📝 **Note**  \n",
        "> For this section, we'll train a model to learn the pattern of a straight line and predict it\n",
        "+ Recall that in Machine Learning, data could represent anything (audio, photos, videos, numbers, e.t.c). However, we'll start simple with a [`Regression`](https://en.wikipedia.org/wiki/Linear_regression) task, where the _target_ is numerical"
      ],
      "metadata": {
        "id": "UCBbNyzU3Bq4"
      }
    },
    {
      "cell_type": "code",
      "execution_count": null,
      "metadata": {
        "colab": {
          "base_uri": "https://localhost:8080/",
          "height": 35
        },
        "id": "qImrKoLey705",
        "outputId": "d24dec14-c8b3-4fd6-ae7d-d7b971ef0140"
      },
      "outputs": [
        {
          "output_type": "execute_result",
          "data": {
            "text/plain": [
              "'2.5.1+cu121'"
            ],
            "application/vnd.google.colaboratory.intrinsic+json": {
              "type": "string"
            }
          },
          "metadata": {},
          "execution_count": 1
        }
      ],
      "source": [
        "# import torch\n",
        "import torch, matplotlib.pyplot as plt\n",
        "# specify style sheet to use\n",
        "plt.style.use('fast')\n",
        "\n",
        "torch.__version__"
      ]
    },
    {
      "cell_type": "markdown",
      "source": [
        "### Creating data using the linear regression formula\n",
        "> Recall the linear regression formula  \n",
        "+ We'll use known parameters for `m` and `c` as `weight` and `bias` respectively, to map the input, `X` to the output `y`\n",
        "\n",
        "```\n",
        "    y = mX + c\n",
        "\n",
        "```"
      ],
      "metadata": {
        "id": "5MboQLbY6CO_"
      }
    },
    {
      "cell_type": "code",
      "source": [
        "# create known parameters\n",
        "weight = 0.7\n",
        "bias = 0.3"
      ],
      "metadata": {
        "id": "WmpDSv776H_q"
      },
      "execution_count": null,
      "outputs": []
    },
    {
      "cell_type": "markdown",
      "source": [
        "> ✋ **Info**  \n",
        "+ We'll use [`torch.arange()`](https://pytorch.org/docs/stable/generated/torch.arange.html#torch-arange) to generate values between `0` and `1` with a step of `0.02` between values\n",
        "+ [`Tensor.unsqueeze()`](https://pytorch.org/docs/stable/generated/torch.unsqueeze.html#torch.unsqueeze) will add a dimension of size `1` at position `1` so that we have n _rows_, but `1` _column_ for the entire data"
      ],
      "metadata": {
        "id": "oBzQrYJ4IHcJ"
      }
    },
    {
      "cell_type": "code",
      "source": [
        "# create data, input and target\n",
        "# input\n",
        "X = torch.arange(0, 1, 0.02).unsqueeze(dim=1)\n",
        "\n",
        "# output\n",
        "y = weight * X + bias"
      ],
      "metadata": {
        "id": "jmRhkZZiGKTW"
      },
      "execution_count": null,
      "outputs": []
    },
    {
      "cell_type": "code",
      "source": [
        "# check shape of data\n",
        "print(f'Input shape: {y.shape}')\n",
        "print(f'Output shape: {X.shape}')"
      ],
      "metadata": {
        "colab": {
          "base_uri": "https://localhost:8080/"
        },
        "id": "E9-BIoGuJIqV",
        "outputId": "8c1cd6fc-04b0-474c-8be5-9b50c282da76"
      },
      "execution_count": null,
      "outputs": [
        {
          "output_type": "stream",
          "name": "stdout",
          "text": [
            "Input shape: torch.Size([50, 1])\n",
            "Output shape: torch.Size([50, 1])\n"
          ]
        }
      ]
    },
    {
      "cell_type": "code",
      "source": [
        "# visualize data (first 5 values for X and y)\n",
        "X[:5], y[:5]"
      ],
      "metadata": {
        "colab": {
          "base_uri": "https://localhost:8080/"
        },
        "id": "-O33h1TdHLd4",
        "outputId": "26bd548a-493f-4ca6-c3f3-ddab84fb46cc"
      },
      "execution_count": null,
      "outputs": [
        {
          "output_type": "execute_result",
          "data": {
            "text/plain": [
              "(tensor([[0.0000],\n",
              "         [0.0200],\n",
              "         [0.0400],\n",
              "         [0.0600],\n",
              "         [0.0800]]),\n",
              " tensor([[0.3000],\n",
              "         [0.3140],\n",
              "         [0.3280],\n",
              "         [0.3420],\n",
              "         [0.3560]]))"
            ]
          },
          "metadata": {},
          "execution_count": 5
        }
      ]
    },
    {
      "cell_type": "code",
      "source": [
        "# alternatively:\n",
        "print(X[:, 0][:5])\n",
        "print(y[:, 0][:5])"
      ],
      "metadata": {
        "colab": {
          "base_uri": "https://localhost:8080/"
        },
        "id": "QxhseuYbMYNe",
        "outputId": "f72dd010-5b3b-4ac1-9258-4de673e5ab89"
      },
      "execution_count": null,
      "outputs": [
        {
          "output_type": "stream",
          "name": "stdout",
          "text": [
            "tensor([0.0000, 0.0200, 0.0400, 0.0600, 0.0800])\n",
            "tensor([0.3000, 0.3140, 0.3280, 0.3420, 0.3560])\n"
          ]
        }
      ]
    },
    {
      "cell_type": "markdown",
      "source": [
        "### Splitting data into train and validation sets\n",
        "> ✋ **Info**\n",
        "\n",
        "> It is common practice to use 80% of a dataset for training and 20% for validation.\n",
        "+ We'll do that using a slicing index\n",
        "+ Alternatively, we could split by _filtering_ the tensor based on [`torch.Tensor.quantile()`](https://pytorch.org/docs/stable/generated/torch.Tensor.quantile.html#torch-tensor-quantile)"
      ],
      "metadata": {
        "id": "fHqhiKLUAwQ0"
      }
    },
    {
      "cell_type": "code",
      "source": [
        "# define a slicing index:\n",
        "train_split = round(0.8*len(X))\n",
        "\n",
        "# split into training and validation sets\n",
        "X_train, y_train = X[:train_split], y[:train_split]\n",
        "X_test, y_test = X[train_split:], y[train_split:]\n",
        "\n",
        "# size\n",
        "len(X_train), len(y_train), len(X_test), len(y_test)"
      ],
      "metadata": {
        "colab": {
          "base_uri": "https://localhost:8080/"
        },
        "id": "Y6DKpnKEFOPn",
        "outputId": "1bb8466d-6e02-4eda-cf3a-854860af9e6b"
      },
      "execution_count": null,
      "outputs": [
        {
          "output_type": "execute_result",
          "data": {
            "text/plain": [
              "(40, 40, 10, 10)"
            ]
          },
          "metadata": {},
          "execution_count": 7
        }
      ]
    },
    {
      "cell_type": "code",
      "source": [
        "# define a function to plot train, test and predicted values\n",
        "def plot_predictions(X_test=X_test, X_train=X_train,\n",
        "                     y_train=y_train, y_test=y_test, preds=None):\n",
        "  _, ax = plt.subplots(figsize=(5, 3.5), layout='constrained')\n",
        "  # train data\n",
        "  ax.scatter(x=X_train, y=y_train, s=4.5, c='#007fff',\n",
        "            label='Train Data')\n",
        "  # test data\n",
        "  ax.scatter(x=X_test, y=y_test, s=3.0, c='#ab274f',\n",
        "            label='Test Data')\n",
        "  # preds\n",
        "  if preds is not None:\n",
        "    ax.scatter(x=X_test, y=preds, c='#000000',\n",
        "              marker='*', label='y_preds')\n",
        "\n",
        "  ax.tick_params(axis='both', labelsize=9)\n",
        "  ax.set_ylabel('Target (y)')\n",
        "  ax.set_xlabel('Input (X)')\n",
        "  ax.set_title('Target values (y) vs Input values (X)',\n",
        "              weight='black', fontsize=11)\n",
        "\n",
        "  plt.legend(loc='upper right', fancybox=False,\n",
        "            bbox_to_anchor=(1.41, 1.025))\n",
        "  plt.show()"
      ],
      "metadata": {
        "id": "aHHLDY1tGr_J"
      },
      "execution_count": null,
      "outputs": []
    },
    {
      "cell_type": "code",
      "source": [
        "# call plotting function\n",
        "plot_predictions()"
      ],
      "metadata": {
        "colab": {
          "base_uri": "https://localhost:8080/",
          "height": 378
        },
        "id": "L4WOBK_TCoDf",
        "outputId": "8ee3aec7-5f3d-4aea-d437-5a39b4392b13"
      },
      "execution_count": null,
      "outputs": [
        {
          "output_type": "display_data",
          "data": {
            "text/plain": [
              "<Figure size 500x350 with 1 Axes>"
            ],
            "image/png": "[encoded data removed]"
          },
          "metadata": {}
        }
      ]
    },
    {
      "cell_type": "markdown",
      "source": [
        "> ▶️ **Up Next**  \n",
        "\n",
        "> Buiding a PyTorch model"
      ],
      "metadata": {
        "id": "TMwCCrpVBsSU"
      }
    }
  ]
}